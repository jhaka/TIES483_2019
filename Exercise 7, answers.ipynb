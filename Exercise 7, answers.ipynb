{
 "cells": [
  {
   "cell_type": "markdown",
   "metadata": {
    "slideshow": {
     "slide_type": "slide"
    }
   },
   "source": [
    "# Exercise 7, answers"
   ]
  },
  {
   "cell_type": "markdown",
   "metadata": {
    "slideshow": {
     "slide_type": "slide"
    }
   },
   "source": [
    "## Problem 1"
   ]
  },
  {
   "cell_type": "markdown",
   "metadata": {},
   "source": [
    "### Part a)"
   ]
  },
  {
   "cell_type": "markdown",
   "metadata": {
    "slideshow": {
     "slide_type": "slide"
    }
   },
   "source": [
    "Let's assume the opposite that $x^*$ is an optimal solution to \n",
    "$$\n",
    "\\min \\sum_{i=1}^kw_if_i(x)\\\\\n",
    "\\text{s.t. }x\\in S\n",
    "$$\n",
    "and that the solution $x^*$ is not Pareto optimal."
   ]
  },
  {
   "cell_type": "markdown",
   "metadata": {},
   "source": [
    "If $x^*$ is not Pareto optimal, then there exists $x'\\in S$ such that\n",
    "$$\n",
    "\\left\\{\n",
    "\\begin{align}\n",
    "f_i(x')\\leq f_i(x^*) \\text{ for all }i=1,\\ldots,k,\\text{ and}\\\\\n",
    "f_j(x')< f_j(x^*) \\text{ for some }j=1,\\ldots,k.\n",
    "\\end{align}\n",
    "\\right.\n",
    "$$\n",
    "But this means that\n",
    "$$\n",
    "\\begin{align}\n",
    "\\sum_{i=1}^kw_if_i(x') &= \\sum_{i\\neq j}w_if_i(x')+w_jf_j(x')\\\\\n",
    "&<\\sum_{i\\neq j}w_if_i(x^*)+w_jf_j(x^*)\\\\\n",
    "&=\\sum_{i=1}^kw_if_i(x^*).\n",
    "\\end{align}\n",
    "$$\n",
    "Thus, $x^*$ is not an optimal solution to the problem in the weighting method. This means that $x^*$ must be Pareto optimal."
   ]
  },
  {
   "cell_type": "markdown",
   "metadata": {
    "slideshow": {
     "slide_type": "slide"
    }
   },
   "source": [
    "### Part b"
   ]
  },
  {
   "cell_type": "markdown",
   "metadata": {},
   "source": [
    "Let's again assume that a solution $x^*$ is an optimal solution to the problem for all $j=1,\\ldots,k$ and $\\epsilon = f(x^*)$, but it is not Pareto optimal."
   ]
  },
  {
   "cell_type": "markdown",
   "metadata": {},
   "source": [
    "If $x^*$ is not Pareto optimal, then there exists $x'\\in S$ such that\n",
    "$$\n",
    "\\left\\{\n",
    "\\begin{align}\n",
    "f_i(x')\\leq f_i(x^*) \\text{ for all }i=1,\\ldots,k,\\text{ and}\\\\\n",
    "f_j(x')< f_j(x^*) \\text{ for some }j=1,\\ldots,k.\n",
    "\\end{align}\n",
    "\\right.\n",
    "$$"
   ]
  },
  {
   "cell_type": "markdown",
   "metadata": {},
   "source": [
    "The first inequality means that $x'$ is a feasible solution to the epsilon constraint problem for \"$j=j$\" (meaning that the index $j$ is the same in the definition of Pareto optimality and the definition of the epsilon constraint method).\n",
    "\n",
    "Furthermore, the second stricth inequality says that the value of the objective at this solutions $x'$ is better than the value at the solutions $x^*$. This means that it is not Pareto optimal."
   ]
  },
  {
   "cell_type": "markdown",
   "metadata": {
    "slideshow": {
     "slide_type": "slide"
    }
   },
   "source": [
    "# Problem 2"
   ]
  },
  {
   "cell_type": "markdown",
   "metadata": {
    "slideshow": {
     "slide_type": "slide"
    }
   },
   "source": [
    "# Part a)"
   ]
  },
  {
   "cell_type": "markdown",
   "metadata": {},
   "source": [
    "Let's assume that a solution $x^*$ is an optimal solution to the achievement scalarizing problem, but it is not Pareto optimal. "
   ]
  },
  {
   "cell_type": "markdown",
   "metadata": {},
   "source": [
    "If $x^*$ is not Pareto optimal, then there exists $x'\\in S$ such that\n",
    "$$\n",
    "\\left\\{\n",
    "\\begin{align}\n",
    "f_i(x')\\leq f_i(x^*) \\text{ for all }i=1,\\ldots,k,\\text{ and}\\\\\n",
    "f_j(x')< f_j(x^*) \\text{ for some }j=1,\\ldots,k.\n",
    "\\end{align}\n",
    "\\right.\n",
    "$$"
   ]
  },
  {
   "cell_type": "markdown",
   "metadata": {},
   "source": [
    "Now,\n",
    "$$\n",
    "\\max_{i=1}^k(f_i(x^*)-z^{ref}_i)+\\rho\\sum_{i=1}^kf_i(x^*) \\geq \\max_{i=1}^k(f_i(x')-z^{ref}_i)+\\rho\\sum_{i=1}^kf_i(x^*)\\\\\n",
    ">  \\max_{i=1}^k(f_i(x')-z^{ref}_i)+\\rho\\sum_{i=1}^kf_i(x')\n",
    "$$\n",
    "where we used just the first inequality first, and then we used the previous proof from weighting method."
   ]
  },
  {
   "cell_type": "markdown",
   "metadata": {},
   "source": [
    "This means again that if the solution $x^*$ is not Pareto optimal, then it cannot be an optimal solution to the achievement scalarizing function."
   ]
  },
  {
   "cell_type": "markdown",
   "metadata": {
    "slideshow": {
     "slide_type": "slide"
    }
   },
   "source": [
    "Part b)"
   ]
  },
  {
   "cell_type": "markdown",
   "metadata": {},
   "source": [
    "Assume a Pareto optimal $x^*$. Now, we choose $z^{ref} = f(x^*)$. Let's have any solutions $x\\in S$. Then,\n",
    "$$\n",
    "\\max_{i=1\\ldots,k}(f_i(x)-z_i^{ref})+\\rho\\sum_{i=1}^kf_i(x) = \\max_{i=1\\ldots,k}(f_i(x)-f_i(x^*))\\\\\n",
    "\\geq 0,\n",
    "$$\n",
    "because $\\rho=0$ and $x^*$ is Pareto optimal and, thus, at least one of the objectives needs to be greater or equal (if this was not the case, the solution $x^*$ would not be Pareto optimal).\n",
    "\n",
    "But now,\n",
    "$$\n",
    "\\max_{i=1\\ldots,k}(f_i(x^*)-z_i^{ref})+\\rho\\sum_{i=1}^kf_i(x^*)= \\max_{i=1\\ldots,k}(f_i(x^*)-f_i(x^*))+\\rho\\sum_{i=1}^kf_i(x^*) \\\\\n",
    "= 0\n",
    "$$\n",
    "trivially. This means that the Pareto optimal solution $x^*$ is an optimal solution to the achievement scalarizing problem. "
   ]
  }
 ],
 "metadata": {
  "celltoolbar": "Slideshow",
  "kernelspec": {
   "display_name": "Python 3",
   "language": "python",
   "name": "python3"
  },
  "language_info": {
   "codemirror_mode": {
    "name": "ipython",
    "version": 3
   },
   "file_extension": ".py",
   "mimetype": "text/x-python",
   "name": "python",
   "nbconvert_exporter": "python",
   "pygments_lexer": "ipython3",
   "version": "3.7.0"
  }
 },
 "nbformat": 4,
 "nbformat_minor": 1
}
