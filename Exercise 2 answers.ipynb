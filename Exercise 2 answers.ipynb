{
 "cells": [
  {
   "cell_type": "markdown",
   "metadata": {
    "slideshow": {
     "slide_type": "slide"
    }
   },
   "source": [
    "# Exercises 2 - Answers"
   ]
  },
  {
   "cell_type": "markdown",
   "metadata": {
    "slideshow": {
     "slide_type": "slide"
    }
   },
   "source": [
    "## Exercise 1"
   ]
  },
  {
   "cell_type": "markdown",
   "metadata": {},
   "source": [
    "The profit that you make for each kwH is $2-0.01x^2-(1-0.01x)$. Thus, the amount of profit that you make is\n",
    "$$\n",
    "(1+0.01x-0.01x^2)x=x+0.01x^2-0.01x^3.\n",
    "$$\n",
    "Thus, the optimization problem is\n",
    "$$\n",
    "\\begin{align}\n",
    "\\max \\qquad & x+0.01x^2-0.01x^3\\\\\n",
    "\\text{s.t.} \\qquad & 0\\leq x \\leq 50.\n",
    "\\end{align}\n",
    "$$"
   ]
  },
  {
   "cell_type": "markdown",
   "metadata": {
    "slideshow": {
     "slide_type": "slide"
    }
   },
   "source": [
    "## Exercise 2"
   ]
  },
  {
   "cell_type": "code",
   "execution_count": 25,
   "metadata": {},
   "outputs": [],
   "source": [
    "def bisection_line_search(a,b,f,L,epsilon):\n",
    "    x = a\n",
    "    y = b\n",
    "    while y-x>2*L:\n",
    "        if f((x+y)/2+epsilon)>f((x+y)/2-epsilon):\n",
    "            y=(x+y)/2+epsilon\n",
    "        else:\n",
    "            x = (x+y)/2-epsilon\n",
    "    return (x+y)/2"
   ]
  },
  {
   "cell_type": "code",
   "execution_count": 26,
   "metadata": {},
   "outputs": [],
   "source": [
    "def f_ex2(x):\n",
    "    return (1-x)**2+x"
   ]
  },
  {
   "cell_type": "code",
   "execution_count": 27,
   "metadata": {},
   "outputs": [
    {
     "name": "stdout",
     "output_type": "stream",
     "text": [
      "0.75 1 1\n"
     ]
    }
   ],
   "source": [
    "print(f_ex2(0.5), f_ex2(0), f_ex2(1))"
   ]
  },
  {
   "cell_type": "code",
   "execution_count": 28,
   "metadata": {},
   "outputs": [
    {
     "data": {
      "text/plain": [
       "0.49993946490478514"
      ]
     },
     "execution_count": 28,
     "metadata": {},
     "output_type": "execute_result"
    }
   ],
   "source": [
    "bisection_line_search(0,2,f_ex2,0.0001,1e-6)"
   ]
  },
  {
   "cell_type": "markdown",
   "metadata": {
    "slideshow": {
     "slide_type": "slide"
    }
   },
   "source": [
    "## Exercise 3"
   ]
  },
  {
   "cell_type": "code",
   "execution_count": 29,
   "metadata": {},
   "outputs": [],
   "source": [
    "import math\n",
    "def golden_section_line_search(a,b,f,L):\n",
    "    x = a\n",
    "    y = b\n",
    "    f_left = f(y-(math.sqrt(5.0)-1)/2.0*(y-x)) #funtion eval \n",
    "    f_right = f(x+(math.sqrt(5.0)-1)/2.0*(y-x)) #function eval\n",
    "    while y-x>2*L:\n",
    "        if f_left > f_right:\n",
    "            x = y-(math.sqrt(5.0)-1)/2.0*(y-x)\n",
    "            f_left = f_right #no function eval\n",
    "            f_right = f(x+(math.sqrt(5.0)-1)/2.0*(y-x)) #function eval\n",
    "        else:\n",
    "            y = x+(math.sqrt(5.0)-1)/2.0*(y-x)\n",
    "            f_right = f_left #no function eval\n",
    "            f_left = f(y-(math.sqrt(5.0)-1)/2.0*(y-x)) #function eval\n",
    "    return (x+y)/2"
   ]
  },
  {
   "cell_type": "code",
   "execution_count": 30,
   "metadata": {},
   "outputs": [
    {
     "data": {
      "text/plain": [
       "0.4999795718254958"
      ]
     },
     "execution_count": 30,
     "metadata": {},
     "output_type": "execute_result"
    }
   ],
   "source": [
    "golden_section_line_search(0,2,f_ex2,0.0001)"
   ]
  },
  {
   "cell_type": "markdown",
   "metadata": {
    "slideshow": {
     "slide_type": "slide"
    }
   },
   "source": [
    "## Exercise 4"
   ]
  },
  {
   "cell_type": "markdown",
   "metadata": {},
   "source": [
    "**Problem 1**: $f(x)=x+0.01x^2-0.01x^3$. Thus,\n",
    "$$\n",
    "f'(x) = 1 + 2*0.01x - 3*0.01x^2 = 1 + 0.02x - 0.03x^2\n",
    "$$\n",
    "and\n",
    "$$\n",
    "f''(x) = 0.02-0.06x.\n",
    "$$"
   ]
  },
  {
   "cell_type": "markdown",
   "metadata": {},
   "source": [
    "If $f'(x) = 0$, then \n",
    "$$\n",
    "x = \\frac{-0.002\\pm\\sqrt{0.02^2-4*(-0.03)*1}}{2*(-0.03)}=\\frac{0.02\\pm\\sqrt{0.1204}}{0.06}\n",
    "$$"
   ]
  },
  {
   "cell_type": "code",
   "execution_count": 31,
   "metadata": {},
   "outputs": [],
   "source": [
    "def f1(x):\n",
    "    return x+0.01*x**2-0.01*x**3"
   ]
  },
  {
   "cell_type": "code",
   "execution_count": 32,
   "metadata": {},
   "outputs": [
    {
     "name": "stdout",
     "output_type": "stream",
     "text": [
      "6.116450524299158 -5.449783857632491\n",
      "4.202336906253436 -3.534188758105288\n"
     ]
    }
   ],
   "source": [
    "import math\n",
    "x1 = (0.02+math.sqrt(0.1204))/0.06\n",
    "x2 = (0.02-math.sqrt(0.1204))/0.06\n",
    "print(x1, x2)\n",
    "print(f1(x1),f1(x2))"
   ]
  },
  {
   "cell_type": "markdown",
   "metadata": {},
   "source": [
    "$f''(x)<0$ when $0.02-0.06x<0$ that is $x>1/3$. So $x=\\frac{0.02+\\sqrt{0.1204}}{0.06}\\approx 6.116$ is a local maximum."
   ]
  },
  {
   "cell_type": "code",
   "execution_count": 33,
   "metadata": {},
   "outputs": [],
   "source": [
    "def hf(x):\n",
    "    return 0.02-0.06*x"
   ]
  },
  {
   "cell_type": "code",
   "execution_count": 36,
   "metadata": {},
   "outputs": [
    {
     "data": {
      "image/png": "[encoded data removed]",
      "text/plain": [
       "<Figure size 432x288 with 1 Axes>"
      ]
     },
     "metadata": {
      "needs_background": "light"
     },
     "output_type": "display_data"
    },
    {
     "name": "stdout",
     "output_type": "stream",
     "text": [
      "0.0\n"
     ]
    }
   ],
   "source": [
    "import numpy as np\n",
    "import matplotlib.pyplot as plt\n",
    "\n",
    "x = np.arange(-20.0, 50.0, 1.0)\n",
    "#plt.plot(x, f1(x), 'bo')\n",
    "plt.plot(x, f1(x), 'bo', x, hf(x),'ro')\n",
    "plt.show()\n",
    "print(f1(0.0))"
   ]
  },
  {
   "cell_type": "markdown",
   "metadata": {},
   "source": [
    "**Problem 2**: Now, $f(x) = (1-x)^2+x$. Thus, \n",
    "$$\n",
    "f'(x)=2(1-x)(-1)+1= -1 +2x.\n",
    "$$\n"
   ]
  },
  {
   "cell_type": "markdown",
   "metadata": {},
   "source": [
    "If $f'(x) = 0$, then $2x=1$ and $x=\\frac 12$.\n",
    "This is a local minimum since,\n",
    "$$\n",
    "f''(x) = 2,\n",
    "$$\n",
    "which is greater than $0$.\n",
    "\n",
    "This means that the algorithms work!"
   ]
  }
 ],
 "metadata": {
  "anaconda-cloud": {},
  "celltoolbar": "Slideshow",
  "kernelspec": {
   "display_name": "Python 3",
   "language": "python",
   "name": "python3"
  },
  "language_info": {
   "codemirror_mode": {
    "name": "ipython",
    "version": 3
   },
   "file_extension": ".py",
   "mimetype": "text/x-python",
   "name": "python",
   "nbconvert_exporter": "python",
   "pygments_lexer": "ipython3",
   "version": "3.7.0"
  }
 },
 "nbformat": 4,
 "nbformat_minor": 1
}
