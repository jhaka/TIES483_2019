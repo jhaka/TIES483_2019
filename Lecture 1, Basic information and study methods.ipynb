{
 "cells": [
  {
   "cell_type": "markdown",
   "metadata": {
    "nbpresent": {
     "id": "3ebef004-761e-4491-8a3b-b11771793aed"
    },
    "slideshow": {
     "slide_type": "slide"
    }
   },
   "source": [
    "# TIES483 Nonlinear optimization\n",
    "* 5 credits\n",
    "* First Spring Term 2019\n",
    "* Senior researcher Jussi Hakanen (jussi.hakanen@jyu.fi)\n",
    "\n",
    "## General information\n",
    "Level: Master level course in mathematical information technology (*Tietotekniikka in Finnish*). Mandatory course for MSc studies in computational sciences."
   ]
  },
  {
   "cell_type": "markdown",
   "metadata": {
    "nbpresent": {
     "id": "6463004f-4fea-4609-af0b-5419087d79eb"
    },
    "slideshow": {
     "slide_type": "subslide"
    }
   },
   "source": [
    "## Contents \n",
    "Optimization of functions of a single variable (line search). Optimization of functions with several variables with and without constraints. Optimality conditions. Software for nonlinear optimization.\n",
    "\n",
    "This course deals with methods that most can be classified as\n",
    "* local optimization methods, which converge to the nearest local optimum\n",
    "* point-by-point i.e., non-population based (population based methods are taught on *TIES451 Selected topics in soft computing*)\n",
    "* single-objective (more multiobjective is taught on *TIES598 Nonlinear Multiobjective Optimization*)\n",
    "* based on a continuous mathematical model of the phenomena (data-based optimization aka *prescriptive analytics* is taught on *TIES583 Mathematical Programming, Part 2*)"
   ]
  },
  {
   "cell_type": "markdown",
   "metadata": {
    "slideshow": {
     "slide_type": "subslide"
    }
   },
   "source": [
    "## Prerequisites \n",
    "\n",
    "* Basic knowledge on optimization (e.g. course TIEA382 Linear and discrete optimization) and numerical methods as well as basic programming skills.\n",
    "* Basic knowledge on mathematical analysis of functions of multiple variables.\n",
    "\n",
    "## Contact teaching\n",
    "* Lectures (<i>in English</i>): 36 h, Mon 12-14 and Wed 14-16 in room Ag C233 7.1.-6.3.2019\n",
    "* Exercise feedback sessions (demos): 16h, Thu 14-16 in room Ag C231 10.1.-7.3.2019\n",
    "* NO teaching on the week 25.2.-3.3.!"
   ]
  },
  {
   "cell_type": "markdown",
   "metadata": {
    "nbpresent": {
     "id": "5b7e358a-501f-4672-8bf6-5c18c2561d73"
    },
    "slideshow": {
     "slide_type": "subslide"
    }
   },
   "source": [
    "## Passing the course\n",
    "During this course you will be given\n",
    "* a number of excercises (one each week) and\n",
    "* one slightly bigger assignment.\n",
    "\n",
    "Excercises will comprise 70% of the points and the assignment will comprise 30% of the points. We will follow the following grading:\n",
    "* Over 90% of the points -> grade 5,\n",
    "* Over 80% of the points -> grade 4,\n",
    "* Over 70% of the points -> grade 3,\n",
    "* Over 60% of the points -> grade 2,\n",
    "* Over 50% of the points -> grade 1, and\n",
    "* Less than 50% of the points -> failed."
   ]
  },
  {
   "cell_type": "markdown",
   "metadata": {
    "slideshow": {
     "slide_type": "subslide"
    }
   },
   "source": [
    "## How demanding the course is?\n",
    "5 credits → 5*26 = 130 hours of work\n",
    "* Lectures: 16*2 = 32 hours\n",
    "* Exercises: 8*2 = 16 hours\n",
    "* Self study (doing exercises, assignment, studying): 130 - 32 – 16 = 82 hours"
   ]
  },
  {
   "cell_type": "markdown",
   "metadata": {
    "nbpresent": {
     "id": "69275509-01ad-45a0-a175-c9752b80c920"
    },
    "slideshow": {
     "slide_type": "subslide"
    }
   },
   "source": [
    "## Course plan\n",
    "\n",
    "**Introduction**\n",
    "    1. First hour: Basic information about the course and study methods (Python, Jupyter etc.); second hour: A very fast introduction to Python and Jupyter using https://github.com/jrjohansson/scientific-python-lectures.\n",
    "    2. The very basics: what is an optimization problem, how to solve one, and line search\n",
    "**Unconstrained optimization**\n",
    "    3. Direct search methods: Hooke&Jeeves and Powell's methods \n",
    "    4. Steepest Descent and Newton's method for unrestricted optimization\n",
    "    5. Example of using available software: scipy.optimize\n",
    "**Constrained optimization**\n",
    "    6. Indirect methods for constrained optimization\n",
    "    7. Direct methods for constrained optimization\n",
    "    8. Optimality conditions\n",
    "    9. Methods using optimality conditions for constrained optimization\n",
    "    10. Algebraic modeling languages, especially Pyomo\n",
    "**Multiobjective optimization**\n",
    "    11. What is multiobjective optimization\n",
    "    12. How to solve multiobjective optimization problems\n",
    "**Applications of optimization**\n",
    "    13. How to find and read scientific papers in the field\n",
    "    14. Students finding applications of optimization themselves\n",
    "**Wrapping up**\n",
    "    15. Further topics and current research in optimization\n",
    "    16. Review\n",
    "    "
   ]
  },
  {
   "cell_type": "markdown",
   "metadata": {
    "slideshow": {
     "slide_type": "subslide"
    }
   },
   "source": [
    "# Learning outcomes\n",
    "* Recognize and solve different types of optimization problems\n",
    "* Understand the basic approaches in solving nonlinear optimization problems \n",
    "* Recognize optimality conditions for unconstrained and constrained problems and learn how to apply them to verify optimality of a solution\n",
    "* Understand the basics of choosing and implementing optimization methods\n",
    "* Learn how to search and apply optimization software in order to solve nonlinear optimization problems\n",
    "* Understand differences in solving convex and non-convex optimization problems \n",
    "* Recognize basic ideas of solving multiobjective optimization problems"
   ]
  },
  {
   "cell_type": "markdown",
   "metadata": {
    "slideshow": {
     "slide_type": "slide"
    }
   },
   "source": [
    "# Let’s introduce ourselves\n",
    "* Who are you and what are you studying?\n",
    "* Master or PhD student?\n",
    "* Previous experiences of optimization?\n",
    "* How is this course related to your studies/research?\n",
    "* What are your expectations about this course?"
   ]
  },
  {
   "cell_type": "markdown",
   "metadata": {
    "nbpresent": {
     "id": "98978692-19ba-4b26-b478-483bb7c5cc48"
    },
    "slideshow": {
     "slide_type": "slide"
    }
   },
   "source": [
    "# Study methods\n",
    "Courtesy of Markus Hartikainen\n",
    "## Python and Jupyter\n",
    "As the programming language Python 3, is used on this course. The course is taught using Jupyter notebooks (http://ipython.org/notebook.html, formerly known as IPython notebooks).\n",
    "## Github\n",
    "The source code of the Jupyter notebooks thought in this course will be available at Github at https://github.com/jhaka/TIES483.\n",
    "## Livereveal\n",
    "The Jupyter notebooks will be transferred to slides using https://github.com/damianavila/RISE. To view the contents at home, you do not need to have this installed."
   ]
  },
  {
   "cell_type": "markdown",
   "metadata": {
    "nbpresent": {
     "id": "95ae669d-bb58-48bd-840a-4b3b4d350215"
    },
    "slideshow": {
     "slide_type": "subslide"
    }
   },
   "source": [
    "## Getting started\n",
    "### Option 1 (recommended)\n",
    "1. Install on a laptop or desktop that you control,\n",
    "    * Python and Jupyter  (see e.g., https://github.com/jrjohansson/scientific-python-lectures/blob/master/Lecture-0-Scientific-Computing-with-Python.ipynb.\n",
    "    * Git (see e.g., https://git-scm.com/book/en/v2/Getting-Started-Installing-Git)\n",
    "2. Clone the repository on your machine using command\n",
    "```\n",
    "git clone https://github.com/jhaka/TIES483.git\n",
    "```\n",
    "3. Start Jupyter in the path of the repository\n",
    "4. Start learning!\n",
    "\n",
    "Always when the source has changed in Github, you need to do\n",
    "```\n",
    "git fetch --all\n",
    "git reset --hard origin/master\n",
    "```\n",
    "This will overwite all the changes that you have made to the materials and get the latest one.\n",
    "### Option 2\n",
    "1. Install a programming or scripting language that you prefer or use one already available on a computer that you have access to\n",
    "2. Follow the lectures from the Github page at ..\n",
    "3. Do exercises using your preferred language\n",
    "4. Keep on learning!\n"
   ]
  },
  {
   "cell_type": "markdown",
   "metadata": {
    "nbpresent": {
     "id": "28eb9d97-ded7-487e-b7e5-a6e2b27469db"
    }
   },
   "source": [
    "## Contributing to the course materials\n",
    "TO BE DECIDED -- GOOD SUGGESTIONS ARE WELCOME"
   ]
  },
  {
   "cell_type": "markdown",
   "metadata": {
    "nbpresent": {
     "id": "bc10fc70-cf30-497e-b971-79c4cc113d91"
    },
    "slideshow": {
     "slide_type": "slide"
    }
   },
   "source": [
    "# Additional stuff\n",
    "## Some nonlinear optimization literature\n",
    "<sup>\n",
    "* Juha Haataja, \"Optimointitehtävien ratkaiseminen (in Finnish)\", CSC:n oppaat, 2004\n",
    "* Fletcher: \"Practical Methods of Optimization\", 1980, Vol. 1 & 2\n",
    "* Gill, Murray & Wright: \"Practical Optimization\", 1981\n",
    "* Luenberger: \"Linear and Nonlinear Programming\", 1984\n",
    "* Bazaraa, Sherali & Shetty: \"Nonlinear Programming: Theory and Algorithms\", 1993 \n",
    "* Bertsekas: \"Nonlinear Programming\", 1995\n",
    "* Nocedal & Wright: \"Numerical Optimization\", 1999 \n",
    "* Biegler: \"Nonlinear Programming: Concepts, Algorithms, and Applications to Chemical Processes\", 2010\n",
    "* Bierlaire: \"Optimization: Principles and Algorithms\"\n",
    "* Hinze, Pinnau, Ulbrich & Ulbrich: \"Optimization with PDE Constraints\", 2009\n",
    "* Conn, Scheinberg & Vicente: \"Introduction to Derivative-Free Optimization\", 2009\n",
    "* Talbi: \"Metaheuristics - From Design to Implementation\", 2009\n",
    "</sup>"
   ]
  },
  {
   "cell_type": "markdown",
   "metadata": {
    "nbpresent": {
     "id": "2c42da48-04d5-46a6-a977-688156361873"
    },
    "slideshow": {
     "slide_type": "subslide"
    }
   },
   "source": [
    "## Usefull links\n",
    "\n",
    "* <a href=\"http://glossary.computing.society.informs.org/\">Mathematical Programming Glossary </a><br>\n",
    "* <a href=\"https://neos-guide.org/content/nlp-faq\">Nonlinear Programming Frequently Asked Questions</a><br>\n",
    "* <a href=\"http://www.mat.univie.ac.at/~neum/glopt.html\">Global Optimization</a>\n",
    "* <a href=\"http://www.mit.jyu.fi/optgroup/\">Industrial Optimization Group (JYU)</a><br>\n",
    "* <a href=\"http://nimbus.mit.jyu.fi/\">WWW-NIMBUS</a><br>\n",
    "* <a href=\"http://ind-nimbus.it.jyu.fi/\">IND-NIMBUS</a><br>\n",
    "* <a href=\"http://plato.asu.edu/guide.html\">Decision Tree for Optimization Software</a><br>\n",
    "* <a href=\"http://www.neos-guide.org/Optimization-Guide\">NEOS Guide: Optimization Software</a>\n",
    "* <a href=\"http://www.mathopt.org/\">Mathematical Optimization Society</a><br>\n",
    "* <a href=\"http://europt.iam.metu.edu.tr/\">EUROPT - The Continuous Optimization Working Group of EURO</a>\n",
    "* <a href=\"http://www.mcdmsociety.org/\">International Society on Multiple Criteria Decision Making </a>\n",
    "* <a href=\"http://www.operaatiotutkimus.fi/\">Finnish operations research society (FORS)</a><br>"
   ]
  },
  {
   "cell_type": "markdown",
   "metadata": {
    "nbpresent": {
     "id": "76e37d4c-6b73-4832-bbda-81912f9dc79f"
    },
    "slideshow": {
     "slide_type": "slide"
    }
   },
   "source": [
    "# Stuff from Jussi Hakanen from previous years\n",
    "\n",
    "\n",
    "* <a href=\"http://users.jyu.fi/~jhaka/opt/TIES483_introduction.pdf\">1. Introduction to nonlinear optimization (Mon 13.1.)</a><br>\n",
    "* <a href=\"http://users.jyu.fi/~jhaka/opt/TIES483_line_search.pdf\">2. On line search (Wed 15.1.)</a><br>\n",
    "* <a href=\"http://users.jyu.fi/~jhaka/opt/TIES483_unconstrained_direct.pdf\">3. Unconstrained optimization: direct search methods (Mon 20.1.)</a>\n",
    "* <a href=\"http://users.jyu.fi/~jhaka/opt/TIES483_unconstrained_gradient.pdf\">4. Unconstrained optimization: gradient-based methods (Part 1) (Wed 22.1.)</a>\n",
    "* <a href=\"http://users.jyu.fi/~jhaka/opt/TIES483_unconstrained_gradient2.pdf\">5. Unconstrained optimization: gradient-based methods (Part 2) (Mon 27.1.)</a>\n",
    "* <a href=\"http://users.jyu.fi/~jhaka/opt/TIES483_matlab_et_al.pdf\">6. Matlab's optimization toolbox for unconstrained optimization (Wed 29.1.)</a>\n",
    "* <a href=\"http://users.jyu.fi/~jhaka/opt/TIES483_constrained_optimality.pdf\">7. Constrained optimization: optimality conditions (Mon 3.2.)</a>\n",
    "* <a href=\"http://users.jyu.fi/~jhaka/opt/TIES483_constrained_indirect.pdf\">8. Constrained optimization: indirect methods (Wed 5.2.)</a>\n",
    "* <a href=\"http://users.jyu.fi/~jhaka/opt/TIES483_constrained_direct1.pdf\">9. Constrained optimization: direct methods (Part 1) (Mon 10.2.)</a>\n",
    "* <a href=\"http://users.jyu.fi/~jhaka/opt/TIES483_constrained_direct2.pdf\">10. Constrained optimization: direct methods (Part 2) (Wed 12.2.)</a>\n",
    "* <a href=\"http://users.jyu.fi/~jhaka/opt/TIES483_introduction_to_multiobjective_optimization.pdf\">11. Introduction to multiobjective optimization (Mon 17.2.)</a>\n",
    "* <a href=\"http://users.jyu.fi/~jhaka/opt/TIES483_how_to_search.pdf\">11(b). How to search for scientific publications (Mon 17.2.)</a>\n",
    "* <a href=\"http://users.jyu.fi/~jhaka/opt/TIES483_multiobjective_optimization_methods.pdf\">12. Multiobjective optimization methods (Wed 19.2.)</a>\n",
    "* <a href=\"http://users.jyu.fi/~jhaka/opt/TIES483_optimization_applications.pdf\">13. & 14. Applications of optimization (Mon 24.2. & Wed 26.2.)</a>\n",
    "* <a href=\"http://users.jyu.fi/~jhaka/opt/TIES483_optimization_software.pdf\">15. Optimization software (Mon 3.3.)</a>\n",
    "* <a href=\"http://users.jyu.fi/~jhaka/opt/TIES483_wrap_up.pdf\">16. Wrap-up (Wed 5.3.)</a>"
   ]
  },
  {
   "cell_type": "markdown",
   "metadata": {
    "nbpresent": {
     "id": "e65f99d4-a6d7-41c0-a57f-1e9c04eb9eab"
    },
    "slideshow": {
     "slide_type": "subslide"
    }
   },
   "source": [
    "## Exercises from previous years\n",
    "\n",
    "* <a href=\"http://users.jyu.fi/~jhaka/opt/demo1.pdf\">1. Wed 22.1.</a><br>\n",
    "* <a href=\"http://users.jyu.fi/~jhaka/opt/demo2.pdf\">2. Wed 29.1.</a><br>\n",
    "* <a href=\"http://users.jyu.fi/~jhaka/opt/demo3.pdf\">3. Wed 5.2.</a><br>\n",
    "* <a href=\"http://users.jyu.fi/~jhaka/opt/demo4.pdf\">4. Wed 12.2.</a><br>\n",
    "* <a href=\"http://users.jyu.fi/~jhaka/opt/demo5b.pdf\">5. Wed 19.2.</a><br>\n",
    "* <a href=\"http://users.jyu.fi/~jhaka/opt/demo6b.pdf\">6. Wed 26.2.</a><br>\n",
    "\n",
    "## Test problems for the programming assignment\n",
    "\n",
    "\n",
    "* <a href=\"http://users.jyu.fi/~jhaka/opt/README\">Instructions</a><br>\n",
    "* <a href=\"http://users.jyu.fi/~jhaka/opt/prob1.exe\">Problem 1</a><br>\n",
    "* <a href=\"http://users.jyu.fi/~jhaka/opt/prob2.exe\">Problem 2</a><br>\n",
    "* <a href=\"http://users.jyu.fi/~jhaka/opt/prob3.exe\">Problem 3</a><br>\n",
    "* <a href=\"http://users.jyu.fi/~jhaka/opt/prob4.exe\">Problem 4</a><br>"
   ]
  }
 ],
 "metadata": {
  "anaconda-cloud": {},
  "celltoolbar": "Slideshow",
  "kernelspec": {
   "display_name": "Python 3",
   "language": "python",
   "name": "python3"
  },
  "language_info": {
   "codemirror_mode": {
    "name": "ipython",
    "version": 3
   },
   "file_extension": ".py",
   "mimetype": "text/x-python",
   "name": "python",
   "nbconvert_exporter": "python",
   "pygments_lexer": "ipython3",
   "version": "3.7.0"
  },
  "nbpresent": {
   "slides": {
    "1a7c918d-419e-45d4-b0cf-3730c354796a": {
     "id": "1a7c918d-419e-45d4-b0cf-3730c354796a",
     "prev": null,
     "regions": {
      "1e88f3c3-0172-4514-a274-c83985d7d54e": {
       "attrs": {
        "height": 0.8,
        "width": 0.8,
        "x": 0.1,
        "y": 0.1
       },
       "content": {
        "cell": "3ebef004-761e-4491-8a3b-b11771793aed",
        "part": "whole"
       },
       "id": "1e88f3c3-0172-4514-a274-c83985d7d54e"
      }
     }
    },
    "20c62738-1815-423d-8d6b-b3895b413252": {
     "id": "20c62738-1815-423d-8d6b-b3895b413252",
     "prev": "e821d758-b8e3-4810-9c86-f7dba48ea44f",
     "regions": {
      "04ea9185-c294-4d73-9075-6a84e6d4bf37": {
       "attrs": {
        "height": 0.8,
        "width": 0.8,
        "x": 0.1,
        "y": 0.1
       },
       "content": {
        "cell": "98978692-19ba-4b26-b478-483bb7c5cc48",
        "part": "whole"
       },
       "id": "04ea9185-c294-4d73-9075-6a84e6d4bf37"
      }
     }
    },
    "33eccf56-1783-427b-9b06-74f061622d15": {
     "id": "33eccf56-1783-427b-9b06-74f061622d15",
     "prev": "856ff929-53d3-4253-9400-64c461779a40",
     "regions": {
      "74ac350e-35b4-4a13-b696-e979d757dac0": {
       "attrs": {
        "height": 0.8,
        "width": 0.8,
        "x": 0.1,
        "y": 0.1
       },
       "content": {
        "cell": "e65f99d4-a6d7-41c0-a57f-1e9c04eb9eab",
        "part": "whole"
       },
       "id": "74ac350e-35b4-4a13-b696-e979d757dac0"
      }
     }
    },
    "3ac22824-2518-47d6-b72e-9fa0201df0fa": {
     "id": "3ac22824-2518-47d6-b72e-9fa0201df0fa",
     "prev": "f48e20a2-d579-43ea-9a9e-7ee39d6a63a4",
     "regions": {
      "3da8f814-33da-4dc0-9169-0eaf60506b15": {
       "attrs": {
        "height": 0.8,
        "width": 0.8,
        "x": 0.1,
        "y": 0.1
       },
       "content": {
        "cell": "28eb9d97-ded7-487e-b7e5-a6e2b27469db",
        "part": "whole"
       },
       "id": "3da8f814-33da-4dc0-9169-0eaf60506b15"
      }
     }
    },
    "856ff929-53d3-4253-9400-64c461779a40": {
     "id": "856ff929-53d3-4253-9400-64c461779a40",
     "prev": "cb885d53-ed8c-44d8-9d59-68d1058d3035",
     "regions": {
      "847a48a2-2051-435b-a0c7-dab7be542901": {
       "attrs": {
        "height": 0.8,
        "width": 0.8,
        "x": 0.1,
        "y": 0.1
       },
       "content": {
        "cell": "76e37d4c-6b73-4832-bbda-81912f9dc79f",
        "part": "whole"
       },
       "id": "847a48a2-2051-435b-a0c7-dab7be542901"
      }
     }
    },
    "90750282-3773-449b-b922-56a820a29a1b": {
     "id": "90750282-3773-449b-b922-56a820a29a1b",
     "prev": "1a7c918d-419e-45d4-b0cf-3730c354796a",
     "regions": {
      "3b401ae0-1846-4215-af56-afb7a11968b6": {
       "attrs": {
        "height": 0.8,
        "width": 0.8,
        "x": 0.1,
        "y": 0.1
       },
       "content": {
        "cell": "6463004f-4fea-4609-af0b-5419087d79eb",
        "part": "whole"
       },
       "id": "3b401ae0-1846-4215-af56-afb7a11968b6"
      }
     }
    },
    "9a0c7814-fc3a-4dde-a337-ee5c788f0819": {
     "id": "9a0c7814-fc3a-4dde-a337-ee5c788f0819",
     "prev": "3ac22824-2518-47d6-b72e-9fa0201df0fa",
     "regions": {
      "f209c311-7007-4bb7-9715-737e062008ef": {
       "attrs": {
        "height": 0.8,
        "width": 0.8,
        "x": 0.1,
        "y": 0.1
       },
       "content": {
        "cell": "bc10fc70-cf30-497e-b971-79c4cc113d91",
        "part": "whole"
       },
       "id": "f209c311-7007-4bb7-9715-737e062008ef"
      }
     }
    },
    "aa4b55f4-fa34-424c-b010-cba66146bf64": {
     "id": "aa4b55f4-fa34-424c-b010-cba66146bf64",
     "prev": "90750282-3773-449b-b922-56a820a29a1b",
     "regions": {
      "7b163985-54f6-4352-8f4a-ef92b2879fd3": {
       "attrs": {
        "height": 0.8,
        "width": 0.8,
        "x": 0.1,
        "y": 0.1
       },
       "content": {
        "cell": "5b7e358a-501f-4672-8bf6-5c18c2561d73",
        "part": "whole"
       },
       "id": "7b163985-54f6-4352-8f4a-ef92b2879fd3"
      }
     }
    },
    "cb885d53-ed8c-44d8-9d59-68d1058d3035": {
     "id": "cb885d53-ed8c-44d8-9d59-68d1058d3035",
     "prev": "9a0c7814-fc3a-4dde-a337-ee5c788f0819",
     "regions": {
      "bb0f6ea8-65aa-432c-b52e-680ba6ae15e2": {
       "attrs": {
        "height": 0.8,
        "width": 0.8,
        "x": 0.1,
        "y": 0.1
       },
       "content": {
        "cell": "2c42da48-04d5-46a6-a977-688156361873",
        "part": "whole"
       },
       "id": "bb0f6ea8-65aa-432c-b52e-680ba6ae15e2"
      }
     }
    },
    "e821d758-b8e3-4810-9c86-f7dba48ea44f": {
     "id": "e821d758-b8e3-4810-9c86-f7dba48ea44f",
     "prev": "aa4b55f4-fa34-424c-b010-cba66146bf64",
     "regions": {
      "4471edba-de6b-413f-a560-53384d31bcb8": {
       "attrs": {
        "height": 0.8,
        "width": 0.8,
        "x": 0.1,
        "y": 0.1
       },
       "content": {
        "cell": "69275509-01ad-45a0-a175-c9752b80c920",
        "part": "whole"
       },
       "id": "4471edba-de6b-413f-a560-53384d31bcb8"
      }
     }
    },
    "f48e20a2-d579-43ea-9a9e-7ee39d6a63a4": {
     "id": "f48e20a2-d579-43ea-9a9e-7ee39d6a63a4",
     "prev": "20c62738-1815-423d-8d6b-b3895b413252",
     "regions": {
      "42a33666-1dcd-4546-8480-4ef8e198c45b": {
       "attrs": {
        "height": 0.8,
        "width": 0.8,
        "x": 0.1,
        "y": 0.1
       },
       "content": {
        "cell": "95ae669d-bb58-48bd-840a-4b3b4d350215",
        "part": "whole"
       },
       "id": "42a33666-1dcd-4546-8480-4ef8e198c45b"
      }
     }
    }
   },
   "themes": {}
  }
 },
 "nbformat": 4,
 "nbformat_minor": 1
}
