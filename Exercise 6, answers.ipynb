{
 "cells": [
  {
   "cell_type": "markdown",
   "metadata": {
    "slideshow": {
     "slide_type": "slide"
    }
   },
   "source": [
    "# Exercise 6, answers"
   ]
  },
  {
   "cell_type": "markdown",
   "metadata": {
    "slideshow": {
     "slide_type": "slide"
    }
   },
   "source": [
    "## Problem 1"
   ]
  },
  {
   "cell_type": "code",
   "execution_count": null,
   "metadata": {},
   "outputs": [],
   "source": [
    "#Let's use penalty function method, optimal solution is x^*=(1,0,0)\n",
    "\n",
    "def f_constrained(x):\n",
    "    return log(x[0]**2+1)+x[1]**4+x[0]*x[2],[x[0]**3-x[1]**2-1,x[0],x[2]],[]"
   ]
  },
  {
   "cell_type": "code",
   "execution_count": null,
   "metadata": {},
   "outputs": [],
   "source": [
    "def alpha(x,f):\n",
    "    (_,ieq,eq) = f(x)\n",
    "    return sum([min([0,ieq_j])**2 for ieq_j in ieq])+sum([eq_k**2 for eq_k in eq])"
   ]
  },
  {
   "cell_type": "code",
   "execution_count": null,
   "metadata": {},
   "outputs": [],
   "source": [
    "def penalized_function(x,f,r):\n",
    "    return f(x)[0] + r*alpha(x,f)"
   ]
  },
  {
   "cell_type": "code",
   "execution_count": null,
   "metadata": {},
   "outputs": [],
   "source": [
    "import numpy as np\n",
    "from scipy.optimize import minimize\n",
    "r = 1\n",
    "x_start = [-10,-3,-5]\n",
    "x_old = np.array([float('inf')]*3)\n",
    "x_new = x_start\n",
    "while np.linalg.norm(x_new-x_old)>0.000001:\n",
    "    res = minimize(lambda x:penalized_function(x,f_constrained,r),\n",
    "               x_start,method='Nelder-Mead')\n",
    "    x_old = x_new\n",
    "    x_new = np.array(res.x)\n",
    "    r = 2*r #r+1\n",
    "print(x_new, r)\n",
    "print(f_constrained(x_new))"
   ]
  },
  {
   "cell_type": "code",
   "execution_count": null,
   "metadata": {
    "slideshow": {
     "slide_type": "subslide"
    }
   },
   "outputs": [],
   "source": [
    "# Another example using Pyomo\n",
    "\n",
    "from pyomo.environ import *\n",
    "\n",
    "model = ConcreteModel()\n",
    "#Three variables\n",
    "model.x = Var([1,2,3])\n",
    "#Objective function including powers and logarithm\n",
    "model.OBJ = Objective(expr = log(model.x[1]**2+1)+model.x[2]**4\n",
    "                      +model.x[1]*model.x[3]) #Objective function\n",
    "model.constr = Constraint(expr = model.x[1]**3-model.x[2]**2>=1)\n",
    "model.box1 = Constraint(expr = model.x[1]>=0)\n",
    "model.box2 = Constraint(expr = model.x[3]>=0)\n",
    "\n",
    "from pyomo.opt import SolverFactory #Import interfaces to solvers\n",
    "\n",
    "opt = SolverFactory(\"ipopt\") #Use ipopt\n",
    "\n",
    "res = opt.solve(model, tee=True) #Solve the  problem and print the output\n",
    "\n",
    "print(\"Optimal solutions is \")\n",
    "model.x.display()\n",
    "print(\"Objective value at the optimal solution is \")\n",
    "model.OBJ.display()"
   ]
  },
  {
   "cell_type": "markdown",
   "metadata": {
    "slideshow": {
     "slide_type": "slide"
    }
   },
   "source": [
    "## Problem 2"
   ]
  },
  {
   "cell_type": "markdown",
   "metadata": {
    "slideshow": {
     "slide_type": "subslide"
    }
   },
   "source": [
    "The set of Pareto optimal solutions is $\\{(t,1-t):t\\in[0,1]\\}$.\n",
    "\n",
    "Let us denote set of Pareto optimal solutions by $PS$ and show that $PS=\\{(t,1-t):t\\in[0,1]\\}$.\n",
    "\n",
    "$PS\\supset\\{(t,1-t):t\\in[0,1]\\}$:\n",
    "\n",
    "Let's assume that there exists $t\\in[0,1]$, which is not Pareto optimal. Then there exists $x=(x_1,x_2)\\in\\mathbb R^2$ and $t\\in[0,1]$ such that\n",
    "$$\n",
    "\\left\\{\n",
    "\\begin{align}\n",
    "\\|x-(1,0)\\|^2<\\|(t,1-t)-(1,0) \\|^2,\\text{ and}\\\\\n",
    "\\|x-(0,1)\\|^2\\leq\\|(t,1-t)-(0,1) \\|^2\n",
    "\\end{align}\n",
    "\\right.\n",
    "$$\n",
    "or\n",
    "$$\n",
    "\\left\\{\n",
    "\\begin{align}\n",
    "\\|x-(1,0)\\|^2\\leq\\|(t,1-t)-(1,0) \\|^2,\\text{ and}\\\\\n",
    "\\|x-(0,1)\\|^2<\\|(t,1-t)-(0,1)\\|^2.\n",
    "\\end{align}\n",
    "\\right.\n",
    "$$\n",
    "\n",
    "But in both cases\n",
    "\n",
    "$$\n",
    "\\sqrt{2} = \\|(1,0)-(0,1)\\|\\\\\n",
    "\\leq \\|(1,0)-x\\|+\\|x-(0,1)\\|\\\\\n",
    "< \\|(t,1-t)-(1,0) \\|+\\|(t,1-t)-(0,1) \\|\\\\\n",
    "= \\|(1,0)-(0,1)\\| =\\sqrt{2}.\n",
    "$$\n",
    "because the point $(t,1-t)$ is on the straight line from $(1,0)$ to $(0,1)$.\n",
    "\n",
    "Thus, neither one of the requirements of non-Pareto optimality can hold. Thus, the point is Pareto optimal.\n",
    "\n",
    "$PS\\subset\\{(t,1-t):t\\in[0,1]\\}$:\n",
    "\n",
    "Let's assume a Pareto optimal solution $x$. This follows from the triangle inequality."
   ]
  },
  {
   "cell_type": "markdown",
   "metadata": {
    "slideshow": {
     "slide_type": "slide"
    }
   },
   "source": [
    "## Problem 3"
   ]
  },
  {
   "cell_type": "markdown",
   "metadata": {},
   "source": [
    "Ideal:\n",
    "\n",
    "To solve\n",
    "$$\n",
    "\\min \\|x-(1,0)\\|^2\\\\\n",
    "\\text{s.t. }x\\in \\mathbb R^2.\n",
    "$$\n",
    "The solution of this problem is naturally $x = (1,0)$ and the minimum is $0$. Minimizing the second objective give $x=(0,1)$ and the minimum is again $0$. Thus, the ideal is $(0,0)$.\n",
    "\n",
    "Now, the problem has just two objectives and thus, we get the components of the nadir by optimizing\n",
    "$$\n",
    "\\min f_1(x)\\\\\n",
    "\\text{s.t. }f_2(x)\\leq z^{ideal}_2\n",
    "$$\n",
    "and\n",
    "$$\n",
    "\\min f_2(x)\\\\\n",
    "\\text{s.t. }f_1(x)\\leq z^{ideal}_1.\n",
    "$$\n",
    "\n",
    "The solution of this problem is Pareto optimal because of the epsilon constraint method and also because the other one of the objectives is at the minimum and the other one cannot be grown with growing the other. Thus, the components of the nadir are at least the optimal values of the above optimization problems.\n",
    "\n",
    "On the other hand, the components of the nadir have to be at most the optimal values of the above optimization problems, because if this was not the case, then the solution would not be Pareto optimal.\n",
    "\n",
    "By solving these optimization problems, we get nadir (2,2)."
   ]
  },
  {
   "cell_type": "markdown",
   "metadata": {
    "slideshow": {
     "slide_type": "slide"
    }
   },
   "source": [
    "## Problem 4"
   ]
  },
  {
   "cell_type": "code",
   "execution_count": null,
   "metadata": {
    "slideshow": {
     "slide_type": "subslide"
    }
   },
   "outputs": [],
   "source": [
    "def prob(x):\n",
    "    return [(x[0]-1)**2+x[1]**2,x[0]**2+(x[1]-1)**2]"
   ]
  },
  {
   "cell_type": "code",
   "execution_count": null,
   "metadata": {},
   "outputs": [],
   "source": [
    "import numpy as np\n",
    "from scipy.optimize import minimize\n",
    "def weighting_method(f,w):\n",
    "    points = []\n",
    "    for wi in w:\n",
    "        res=minimize(\n",
    "            #weighted sum\n",
    "            lambda x: sum(np.array(wi)*np.array(f(x))), \n",
    "            [0,0],\n",
    "            options = {'disp':False})\n",
    "        points.append(res.x)\n",
    "    return points"
   ]
  },
  {
   "cell_type": "code",
   "execution_count": null,
   "metadata": {},
   "outputs": [],
   "source": [
    "w = np.random.random((500,2)) #500 random weights\n",
    "wn = w\n",
    "for i in range(len(w)):\n",
    "    s = sum(w[0])\n",
    "    for j in range(2):\n",
    "        wn[i][j] = w[i][j]/s\n",
    "#help(minimize)\n",
    "repr_ws = weighting_method(prob,wn)"
   ]
  },
  {
   "cell_type": "markdown",
   "metadata": {
    "slideshow": {
     "slide_type": "-"
    }
   },
   "source": [
    "Another alternative by using Pyomo:"
   ]
  },
  {
   "cell_type": "code",
   "execution_count": null,
   "metadata": {},
   "outputs": [],
   "source": [
    "from pyomo.environ import *\n",
    "from pyomo.opt import SolverFactory #Import interfaces to solvers\n",
    "\n",
    "def weighting_method_pyomo(f,w):\n",
    "    points = []\n",
    "    for wi in w:\n",
    "        model = ConcreteModel()\n",
    "        model.x = Var([0,1])\n",
    "        #weighted sum\n",
    "        model.obj = Objective(expr = wi[0]*f(model.x)[0]+wi[1]*f(model.x)[1])\n",
    "        opt = SolverFactory(\"ipopt\") #Use ipopt\n",
    "        #Combination of expression and function\n",
    "        res=opt.solve(model) #Solve the problem\n",
    "        points.append([model.x[0].value,model.x[1].value]) #We should check for optimality...\n",
    "    return points"
   ]
  },
  {
   "cell_type": "code",
   "execution_count": null,
   "metadata": {},
   "outputs": [],
   "source": [
    "import numpy as np\n",
    "w = np.random.random((500,2)) #500 random weights\n",
    "repr = weighting_method_pyomo(prob,w)"
   ]
  },
  {
   "cell_type": "markdown",
   "metadata": {},
   "source": [
    "**Plot the solutions in the objective space**"
   ]
  },
  {
   "cell_type": "code",
   "execution_count": null,
   "metadata": {},
   "outputs": [],
   "source": [
    "import matplotlib.pyplot as plt\n",
    "def visualize_representation(func,repr):\n",
    "    f_repr_ws = [prob(repri) for repri in repr]\n",
    "    fig = plt.figure()\n",
    "    plt.scatter([z[0] for z in f_repr_ws],[z[1] for z in f_repr_ws])\n",
    "    return plt"
   ]
  },
  {
   "cell_type": "code",
   "execution_count": null,
   "metadata": {},
   "outputs": [],
   "source": [
    "visualize_representation(prob,repr_ws)"
   ]
  },
  {
   "cell_type": "markdown",
   "metadata": {},
   "source": [
    "**Plot the solutions in the decision space**"
   ]
  },
  {
   "cell_type": "code",
   "execution_count": null,
   "metadata": {},
   "outputs": [],
   "source": [
    "import matplotlib.pyplot as plt\n",
    "def visualize_decisions(repr):\n",
    "    fig = plt.figure()\n",
    "    plt.scatter([x[0] for x in repr],[x[1] for x in repr])\n",
    "    return plt"
   ]
  },
  {
   "cell_type": "code",
   "execution_count": null,
   "metadata": {},
   "outputs": [],
   "source": [
    "visualize_decisions(repr_ws).show()"
   ]
  },
  {
   "cell_type": "markdown",
   "metadata": {
    "slideshow": {
     "slide_type": "subslide"
    }
   },
   "source": [
    "**What do we notice?**"
   ]
  },
  {
   "cell_type": "markdown",
   "metadata": {},
   "source": [
    "In this problem, the weighting method works. This is because the objective functions are convex.\n",
    "\n",
    "Working here means that the method produces an even representation of the whole Pareto optimal set."
   ]
  }
 ],
 "metadata": {
  "celltoolbar": "Slideshow",
  "kernelspec": {
   "display_name": "Python 3",
   "language": "python",
   "name": "python3"
  },
  "language_info": {
   "codemirror_mode": {
    "name": "ipython",
    "version": 3
   },
   "file_extension": ".py",
   "mimetype": "text/x-python",
   "name": "python",
   "nbconvert_exporter": "python",
   "pygments_lexer": "ipython3",
   "version": "3.7.0"
  }
 },
 "nbformat": 4,
 "nbformat_minor": 1
}
