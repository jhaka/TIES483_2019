{
 "cells": [
  {
   "cell_type": "markdown",
   "metadata": {},
   "source": [
    "# Exercise 8\n",
    "* Due: 7.3. at noon\n",
    "* Max points: 12"
   ]
  },
  {
   "cell_type": "markdown",
   "metadata": {},
   "source": [
    "Find an applications of optimization in a scienfic paper, and replicate the results. Return a report to me by the due time.\n",
    "\n",
    "If you do not have the data or the model, then you need to come up with a mock-up data or model yourself. If you do not have the data and you cannot come with any model or data that would somehow resemble the model or the data in the paper, then you need to write a description of why this could not be done.\n",
    "\n",
    "If you want, you can apply any other optimization method than what was applied in the paper. This would actually be interesting, since then we can compare the results."
   ]
  }
 ],
 "metadata": {
  "kernelspec": {
   "display_name": "Python 3",
   "language": "python",
   "name": "python3"
  },
  "language_info": {
   "codemirror_mode": {
    "name": "ipython",
    "version": 3
   },
   "file_extension": ".py",
   "mimetype": "text/x-python",
   "name": "python",
   "nbconvert_exporter": "python",
   "pygments_lexer": "ipython3",
   "version": "3.7.0"
  }
 },
 "nbformat": 4,
 "nbformat_minor": 1
}
