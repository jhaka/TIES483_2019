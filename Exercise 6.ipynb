{
 "cells": [
  {
   "cell_type": "markdown",
   "metadata": {},
   "source": [
    "# Exercise 6\n",
    "* Due: 14.2.2019 at noon\n",
    "* Max points: 8"
   ]
  },
  {
   "cell_type": "markdown",
   "metadata": {},
   "source": [
    "## General rules\n",
    "* Send the source code or the written notes of your answers as an attachment to jussi.hakanen@jyu.fi before the due time\n",
    "* **Remember to add comments to your answers and include also some testing part!**\n",
    "* You will get feedback about your answers a week from the due date\n",
    "* From the second week on, the exercises will be given on the previous Wednesday's lecture"
   ]
  },
  {
   "cell_type": "markdown",
   "metadata": {},
   "source": [
    "## Exercises\n",
    "\n",
    "1. **2 points** Solve optimization problem\n",
    "$$\n",
    "\\begin{align}\n",
    "\\min \\quad &\\log(x_1^2+1)+x_2^4+x_1x_3\\\\\n",
    "\\text{s.t. }\\quad &x_1^3-x_2^2\\geq 1\\\\\n",
    "& x_1,x_3\\geq 0, \\ x_2\\in\\mathbb R\n",
    "\\end{align}\n",
    "$$\n",
    "using any method that you have available. Analyze the result you got.\n",
    "2. **2 points** Study multiobjective optimization problem\n",
    "$$\n",
    "\\begin{align}\n",
    "\\min & \\{\\|x-(1,0)\\|^2,\\|x-(0,1)\\|^2\\}\\\\\n",
    "\\text{s.t. }&x\\in \\mathbb R^2.\n",
    "\\end{align}\n",
    "$$\n",
    "Chacterize algebraicly (i.e. give a mathematical formulation) the full set of Pareto optimal solutions.\n",
    "3. **2 points** Calculate the ideal and nadir vectors for the above two objective problem. You can use any methods available.\n",
    "4. **2 points** Try to generate a representative set of Pareto optimal solutions using the weighting method for the above two objective problem. Compare this set to the set of Pareto optimal solutions from task 2. What do you notice?"
   ]
  }
 ],
 "metadata": {
  "anaconda-cloud": {},
  "kernelspec": {
   "display_name": "Python 3",
   "language": "python",
   "name": "python3"
  },
  "language_info": {
   "codemirror_mode": {
    "name": "ipython",
    "version": 3
   },
   "file_extension": ".py",
   "mimetype": "text/x-python",
   "name": "python",
   "nbconvert_exporter": "python",
   "pygments_lexer": "ipython3",
   "version": "3.7.0"
  }
 },
 "nbformat": 4,
 "nbformat_minor": 1
}
