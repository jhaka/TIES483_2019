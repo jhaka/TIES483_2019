{
 "cells": [
  {
   "cell_type": "markdown",
   "metadata": {
    "slideshow": {
     "slide_type": "slide"
    }
   },
   "source": [
    "# Lecture 15, Further topics and current research in optimization"
   ]
  },
  {
   "cell_type": "markdown",
   "metadata": {
    "slideshow": {
     "slide_type": "slide"
    }
   },
   "source": [
    "## Black box surrogate-based global optimization"
   ]
  },
  {
   "cell_type": "markdown",
   "metadata": {
    "slideshow": {
     "slide_type": "subslide"
    }
   },
   "source": [
    "In the current course, (almost) all the models have been based on algebraic equations. \n",
    "\n",
    "However, in many cases, you do not have algebraic equations describing the problem, but instead you have a software or a piece of code that can calculate the values for you."
   ]
  },
  {
   "cell_type": "markdown",
   "metadata": {
    "slideshow": {
     "slide_type": "fragment"
    }
   },
   "source": [
    "In many cases like this, you need to treat the model as a *\"black box\"*, which means that you only know what goes in and what comes out."
   ]
  },
  {
   "cell_type": "markdown",
   "metadata": {
    "slideshow": {
     "slide_type": "fragment"
    }
   },
   "source": [
    "To solve the problem, you have a (limited) budget of expensive function evaluations to be used. Thus, your method is going to have to be intelligent in how to figure out which solutions to evaluate and which not."
   ]
  },
  {
   "cell_type": "markdown",
   "metadata": {
    "slideshow": {
     "slide_type": "subslide"
    }
   },
   "source": [
    "In addition, these models may be highly nonconvex and, thus, you are going to have to use *global optimization methods*.\n",
    "\n",
    "The methods described in this course are so-called local optimization methods. Local optimization methods are highly efficient in finding a local minimum of a problem, but they cannot guarantee global optimum."
   ]
  },
  {
   "cell_type": "markdown",
   "metadata": {
    "slideshow": {
     "slide_type": "fragment"
    }
   },
   "source": [
    "Global optimization methods need to have some strategy for searching as much as possible of the search space."
   ]
  },
  {
   "cell_type": "markdown",
   "metadata": {
    "slideshow": {
     "slide_type": "fragment"
    }
   },
   "source": [
    "In global optimization, there is the so-called **exploration vs. exploitation** ratio. Exploitation means that the method is basically acting as a local optimization method to find the nearest local optimum and exploration means that the method uses some strategy to try to find other local optima."
   ]
  },
  {
   "cell_type": "markdown",
   "metadata": {
    "slideshow": {
     "slide_type": "fragment"
    }
   },
   "source": [
    "So-called soft-computing methods are very popular, although others also exist."
   ]
  },
  {
   "cell_type": "markdown",
   "metadata": {
    "slideshow": {
     "slide_type": "subslide"
    }
   },
   "source": [
    "Finally, these black box models are often *computationally expensive* (w.r.t. to time and/or money), which means that you need to use a so-called surrogate to save function calls to the black box model. A *surrogate* is a function that can be used to approximate the original objective (or constraint) function but is fast to evaluate. A set of sample points with the original functions is needed to train the surrogate for approximating the original function. This is illustrated below.\n",
    "\n",
    "![alt text](images/surrogate.png \"Surrogate\")\n",
    "\n",
    "<i>Figure by Mohammad Tabatabaei</i>"
   ]
  },
  {
   "cell_type": "markdown",
   "metadata": {
    "slideshow": {
     "slide_type": "fragment"
    }
   },
   "source": [
    "In practice, this means that there is a clever way of \n",
    "1. deciding whether to evaluate a solution with the black box model or the surrogate model, and\n",
    "2. when to update the surrogate with solutions calculated using the black-box."
   ]
  },
  {
   "cell_type": "markdown",
   "metadata": {
    "slideshow": {
     "slide_type": "fragment"
    }
   },
   "source": [
    "Usual surrogates are neural networks, radial basis functions and Kriging models."
   ]
  },
  {
   "cell_type": "markdown",
   "metadata": {},
   "source": [
    "Recent PhD thesis related to using surrogates in optimization: \n",
    "* Tomi Haanpää, https://jyx.jyu.fi/handle/123456789/40501\n",
    "* Mohammad Tabatabaei, https://jyx.jyu.fi/handle/123456789/52165\n",
    "* Tinkle Chugh, https://jyx.jyu.fi/handle/123456789/54314\n"
   ]
  },
  {
   "cell_type": "markdown",
   "metadata": {
    "slideshow": {
     "slide_type": "slide"
    }
   },
   "source": [
    "## Connecting \"Big Data\" and optimization\n",
    "### Also called prescriptive analytics"
   ]
  },
  {
   "cell_type": "markdown",
   "metadata": {
    "slideshow": {
     "slide_type": "subslide"
    }
   },
   "source": [
    "Sometimes, the model of the problem is not based on an algebraic model, nor a computer program, but instead you have (e.g., measured) data about the phenomena concerning the problem. "
   ]
  },
  {
   "cell_type": "markdown",
   "metadata": {
    "slideshow": {
     "slide_type": "fragment"
    }
   },
   "source": [
    "**This raises completely new kind of problems.**"
   ]
  },
  {
   "cell_type": "markdown",
   "metadata": {
    "slideshow": {
     "slide_type": "fragment"
    }
   },
   "source": [
    "Dealing with \"Big Data\", you have to deal with the four v:s:\n",
    "* volume:\n",
    "  * the data is actually big and you need to have specific tools for accessing it\n",
    "  * in addition, one needs to figure out what is the relevant data\n",
    "* variety:\n",
    "  * the data is in completely different formats and you may have to deal with all of them (e.g., video, spread sheets, natural language),\n",
    "* velocity:\n",
    "  * the data is constantly changing and more data is being gathered,\n",
    "* veracity:\n",
    "  * the data is bad and untrusworthy, \n",
    "  * there is a lot of missing data. "
   ]
  },
  {
   "cell_type": "markdown",
   "metadata": {
    "slideshow": {
     "slide_type": "fragment"
    }
   },
   "source": [
    "An example of prescriptive analytics: https://www.ibm.com/developerworks/community/blogs/jfp/entry/prescriptive_vs_predicitve_analytics_part_1_sailing?lang=en"
   ]
  },
  {
   "cell_type": "markdown",
   "metadata": {
    "slideshow": {
     "slide_type": "fragment"
    }
   },
   "source": [
    "E.g., a paper at http://ieeexplore.ieee.org/xpls/abs_all.jsp?arnumber=6879615&tag=1\n",
    "\n",
    "More recent paper dealing with evolutionary approaches and data at https://ieeexplore.ieee.org/document/8456559"
   ]
  },
  {
   "cell_type": "markdown",
   "metadata": {
    "slideshow": {
     "slide_type": "fragment"
    }
   },
   "source": [
    "Also, in this case, one often needs machine learning techiques to first make sense of the data and then to optimize based on that information gathered. \n",
    "\n",
    "An example of this can be found in https://link.springer.com/chapter/10.1007/978-3-030-13709-0_9 which was published in a fairly recent conference series is dedicated to combining machine learning and optimization: https://lod2019.icas.xyz/\n"
   ]
  },
  {
   "cell_type": "markdown",
   "metadata": {
    "slideshow": {
     "slide_type": "slide"
    }
   },
   "source": [
    "## Multiobjective optimization and decision support systems"
   ]
  },
  {
   "cell_type": "markdown",
   "metadata": {
    "slideshow": {
     "slide_type": "subslide"
    }
   },
   "source": [
    "**The whole point of optimization is to support decision making!**"
   ]
  },
  {
   "cell_type": "markdown",
   "metadata": {
    "slideshow": {
     "slide_type": "fragment"
    }
   },
   "source": [
    "However,\n",
    "* most decision problems have multiple conflicting objectives, and\n",
    "* human beings are not rational decision makers."
   ]
  },
  {
   "cell_type": "markdown",
   "metadata": {
    "slideshow": {
     "slide_type": "fragment"
    }
   },
   "source": [
    "First item needs methods to deal with multiple objectives.\n",
    "\n",
    "There are still a lot of unresolved questions in how the decision makers interact with optimization and, also, in just how to compute Pareto optimal solutions for complicated problems."
   ]
  },
  {
   "cell_type": "markdown",
   "metadata": {
    "slideshow": {
     "slide_type": "subslide"
    }
   },
   "source": [
    "In addition, a user interface is a very important piece of a decision support system and should be taken into account for any implementation of multiobjective optimization methods. That enables interaction with a decision maker both in DM analysing the existing solutions and providing new preferences. The following aspects are emphasized in the user interface:\n",
    "* visualization techniques for solutions having a high number of objectives\n",
    "* linked visualizations that enable simultaneous analysis by using different types of visualizations\n",
    "* responsive and live interface\n",
    "\n",
    "Closely related to <a href=\"https://en.wikipedia.org/wiki/Visual_analytics\">Visual Analytics</a>. This paper describes visual analytics in more details: https://link.springer.com/chapter/10.1007/978-3-540-70956-5_7"
   ]
  },
  {
   "cell_type": "markdown",
   "metadata": {
    "slideshow": {
     "slide_type": "slide"
    }
   },
   "source": [
    "## A sketch of a user interface\n",
    "\n",
    "![alt text](images/user_interface.png \"User interface\")"
   ]
  },
  {
   "cell_type": "markdown",
   "metadata": {
    "slideshow": {
     "slide_type": "subslide"
    }
   },
   "source": [
    "Second item needs a completely separate type of research.\n",
    "\n",
    "In fact, it has been shown that most of the decision making that humans do, is dictated by feelings.\n",
    "\n",
    "Thus, one needs to take into account human beings as complete beings.\n",
    "\n",
    "**This is studied in behavioural operations research**"
   ]
  },
  {
   "cell_type": "markdown",
   "metadata": {
    "slideshow": {
     "slide_type": "fragment"
    }
   },
   "source": [
    "Multiobjective optimization e.g., in a recent paper by Kaisa Miettinen and others http://dx.doi.org/10.1007/s11573-015-0786-0\n",
    "\n",
    "Behavioral aspects have been studied e.g., in a paper http://www.sciencedirect.com/science/article/pii/S0167487015001427\n",
    "\n",
    "Good book on decision making: http://www.nytimes.com/2011/11/27/books/review/thinking-fast-and-slow-by-daniel-kahneman-book-review.html\n",
    "\n",
    "Two articles on machine decision makers:\n",
    "* https://link.springer.com/chapter/10.1007/978-3-319-15892-1_20\n",
    "* https://link.springer.com/chapter/10.1007/978-3-319-45823-6_45"
   ]
  },
  {
   "cell_type": "markdown",
   "metadata": {
    "slideshow": {
     "slide_type": "slide"
    }
   },
   "source": [
    "## Dealing with risk"
   ]
  },
  {
   "cell_type": "markdown",
   "metadata": {
    "slideshow": {
     "slide_type": "subslide"
    }
   },
   "source": [
    "**Almost all real-life decisions include risk!**"
   ]
  },
  {
   "cell_type": "markdown",
   "metadata": {
    "slideshow": {
     "slide_type": "fragment"
    }
   },
   "source": [
    "How to deal with this risk, is an active research topic in optimization.\n",
    "\n",
    "Basically, there are two competing underlying approaches:\n",
    "1. scenario-based approaches, where the possible states involving the decision problem are modelled as different scenarios and\n",
    "2. probabilistic (and similar like fuzzy) approaches, where the possible states are modelled using a distribution (or similar)."
   ]
  },
  {
   "cell_type": "markdown",
   "metadata": {
    "slideshow": {
     "slide_type": "fragment"
    }
   },
   "source": [
    "There are also different risk measures that can be taken into account."
   ]
  },
  {
   "cell_type": "markdown",
   "metadata": {
    "slideshow": {
     "slide_type": "fragment"
    }
   },
   "source": [
    "**There will be a course COM3: Risk, Performance and Decision Analysis in the JYU Summer School that deals with risk and optimization**\n",
    "\n",
    "More information at https://www.jyu.fi/en/research/summer-and-winter-schools/jss/courses/courses-in-computational-sciences."
   ]
  },
  {
   "cell_type": "markdown",
   "metadata": {
    "slideshow": {
     "slide_type": "fragment"
    }
   },
   "source": [
    "For example, there is one paper by Annika Kangas et al. http://www.nrcresearchpress.com/doi/pdf/10.1139/cjfr-2014-0443, where the uncertainty is modelled using scenarios, but the twist is that there is a possibility of measuring the states, which removes a part or all of the uncertainty. "
   ]
  }
 ],
 "metadata": {
  "anaconda-cloud": {},
  "celltoolbar": "Slideshow",
  "kernelspec": {
   "display_name": "Python 3",
   "language": "python",
   "name": "python3"
  },
  "language_info": {
   "codemirror_mode": {
    "name": "ipython",
    "version": 3
   },
   "file_extension": ".py",
   "mimetype": "text/x-python",
   "name": "python",
   "nbconvert_exporter": "python",
   "pygments_lexer": "ipython3",
   "version": "3.7.0"
  }
 },
 "nbformat": 4,
 "nbformat_minor": 1
}
