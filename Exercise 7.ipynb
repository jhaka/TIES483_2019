{
 "cells": [
  {
   "cell_type": "markdown",
   "metadata": {},
   "source": [
    "# Exercise 7\n",
    "* Due: 21.2.2017 at noon\n",
    "* Max points: 8"
   ]
  },
  {
   "cell_type": "markdown",
   "metadata": {},
   "source": [
    "## General rules\n",
    "* Send the source code or the written notes of your answers as an attachment to jussi.hakanen@jyu.fi before the due time\n",
    "* **Remember to add comments to your answers and include also some testing part!**\n",
    "* You will get feedback about your answers a week from the due date\n",
    "* From the second week on, the exercises will be given on the previous Wednesday's lecture"
   ]
  },
  {
   "cell_type": "markdown",
   "metadata": {},
   "source": [
    "## Exercises\n",
    "\n",
    "1. **2 points** Show\n",
    "  1. that an optimal solution to the weighting method is Pareto optimal, if the weights $w_i>0$ for all $i=1,\\ldots,k$, and\n",
    "  2. that an optimal solution $x^*$ to the epsilon constraint method is Pareto optimal, if it is an optimal solution to the epsilon constraint method for all $j=1,\\ldots,k$ and $\\epsilon=f(x^*)$.\n",
    "2. **2 points** Show that \n",
    "  1. an optimal solution to the achievement scalarizing problem is Pareto optimal, and\n",
    "  2. for all Pareto optimal solutions $x^*$ there exist a reference point such that $x^*$ is an optimal solution to the achievement scalarizing problem with $\\rho=0$ (i.e., without the augmentation term). \n",
    "3. **2 points** Think of a multiobjective optimization problem from your own life with at least three objectives. Model this problem using algebraic equations.\n",
    "4. **2 points** Use the WWW-NIMBUS software at https://wwwnimbus.it.jyu.fi/cgi-bin/N4/login.py to find preferable solutions to the problem. Analyse the results (i.e., write what you think about the solutions found)."
   ]
  }
 ],
 "metadata": {
  "anaconda-cloud": {},
  "kernelspec": {
   "display_name": "Python 3",
   "language": "python",
   "name": "python3"
  },
  "language_info": {
   "codemirror_mode": {
    "name": "ipython",
    "version": 3
   },
   "file_extension": ".py",
   "mimetype": "text/x-python",
   "name": "python",
   "nbconvert_exporter": "python",
   "pygments_lexer": "ipython3",
   "version": "3.7.0"
  }
 },
 "nbformat": 4,
 "nbformat_minor": 1
}
