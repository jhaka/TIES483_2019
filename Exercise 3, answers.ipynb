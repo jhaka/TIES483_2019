{
 "cells": [
  {
   "cell_type": "markdown",
   "metadata": {
    "slideshow": {
     "slide_type": "slide"
    }
   },
   "source": [
    "# Exercises 3, answers"
   ]
  },
  {
   "cell_type": "code",
   "execution_count": 1,
   "metadata": {},
   "outputs": [],
   "source": [
    "def objective_function(x):\n",
    "    return (x[0]**2.0 + x[1]**2.0 + x[0] + 2.0 * x[1])"
   ]
  },
  {
   "cell_type": "markdown",
   "metadata": {
    "slideshow": {
     "slide_type": "subslide"
    }
   },
   "source": [
    "## Excercise 1"
   ]
  },
  {
   "cell_type": "code",
   "execution_count": 2,
   "metadata": {},
   "outputs": [],
   "source": [
    "import math\n",
    "def golden_section_line_search(a,b,f,L):\n",
    "    x = a\n",
    "    y = b\n",
    "    while y-x>2*L:\n",
    "        if f(x+(math.sqrt(5.0)-1)/2.0*(y-x))<f(y-(math.sqrt(5.0)-1)/2.0*(y-x)):\n",
    "            x = y-(math.sqrt(5.0)-1)/2.0*(y-x)\n",
    "        else:\n",
    "            y = x+(math.sqrt(5.0)-1)/2.0*(y-x)\n",
    "    return (x+y)/2"
   ]
  },
  {
   "cell_type": "code",
   "execution_count": 3,
   "metadata": {},
   "outputs": [],
   "source": [
    "import numpy as np\n",
    "import ad\n",
    "def steepest_descent_withgolden(f,start,search_interval_length,precision):\n",
    "    f_old = float('Inf')\n",
    "    x = np.array(start)\n",
    "    steps = []\n",
    "    f_new = f(x)\n",
    "    d = float('Inf')\n",
    "    while np.linalg.norm(d)>precision:\n",
    "        f_old = f_new\n",
    "        d = -np.array(ad.gh(f)[0](x))\n",
    "        step = golden_section_line_search(0,\n",
    "                                          search_interval_length/np.linalg.norm(d),\n",
    "                                          lambda t: f(x+t*d),\n",
    "                                          precision)\n",
    "        x = x+d*step\n",
    "        f_new = f(x)\n",
    "        steps.append(list(x))\n",
    "    return x,f_new,steps"
   ]
  },
  {
   "cell_type": "code",
   "execution_count": 4,
   "metadata": {},
   "outputs": [
    {
     "name": "stdout",
     "output_type": "stream",
     "text": [
      "[-0.50000001 -1.00000001]\n",
      "3\n",
      "[[-0.5001359311561351, -1.0001812415415134], [-0.5000000076749562, -1.000000010233275], [-0.5000000076738548, -1.0000000102318063]]\n"
     ]
    }
   ],
   "source": [
    "start = [1,1]\n",
    "(x,f_new,steps1) = steepest_descent_withgolden(objective_function,\n",
    "                                               start,3,0.0001)\n",
    "print (x)\n",
    "print(len(steps1))\n",
    "print(steps1)"
   ]
  },
  {
   "cell_type": "markdown",
   "metadata": {
    "slideshow": {
     "slide_type": "slide"
    }
   },
   "source": [
    "## Exercise 2"
   ]
  },
  {
   "cell_type": "code",
   "execution_count": 5,
   "metadata": {},
   "outputs": [],
   "source": [
    "import numpy as np\n",
    "import ad\n",
    "def steepest_descent(f,start,step,precision):\n",
    "    f_old = float('Inf')\n",
    "    x = np.array(start)\n",
    "    steps = []\n",
    "    f_new = f(x)\n",
    "    d = float('Inf')\n",
    "#    while abs(f_old-f_new)>precision and len(steps)<10:\n",
    "    while np.linalg.norm(d)>precision and len(steps)<10:\n",
    "        f_old = f_new\n",
    "        d = -np.array(ad.gh(f)[0](x))\n",
    "        x = x+d*step\n",
    "        f_new = f(x)\n",
    "        steps.append(list(x))\n",
    "    return x,f_new,steps"
   ]
  },
  {
   "cell_type": "code",
   "execution_count": 20,
   "metadata": {},
   "outputs": [
    {
     "name": "stdout",
     "output_type": "stream",
     "text": [
      "[-0.49093007 -0.98790676]\n",
      "10\n",
      "[[0.3999999999999999, 0.19999999999999996], [0.039999999999999925, -0.28], [-0.17600000000000005, -0.5680000000000001], [-0.30560000000000004, -0.7408], [-0.38336000000000003, -0.84448], [-0.430016, -0.906688], [-0.4580096, -0.9440128], [-0.47480576, -0.96640768], [-0.484883456, -0.979844608], [-0.4909300736, -0.9879067648]]\n"
     ]
    }
   ],
   "source": [
    "(x,f_new,steps2) = steepest_descent(objective_function,start,.2,0.0001)\n",
    "print(x)\n",
    "print(len(steps2))\n",
    "print(steps2)"
   ]
  },
  {
   "cell_type": "code",
   "execution_count": 7,
   "metadata": {},
   "outputs": [],
   "source": [
    "import matplotlib.pyplot as plt\n",
    "\n",
    "def plot_2d_steps2(steps1,start1,steps2,start2):\n",
    "    myvec1 = np.array([start1]+steps1).transpose()\n",
    "    myvec2 = np.array([start2]+steps2).transpose()\n",
    "    plt.plot(myvec2[0,],myvec2[1,],'bo')    \n",
    "    plt.plot(myvec1[0,],myvec1[1,],'ro')\n",
    "    return plt"
   ]
  },
  {
   "cell_type": "code",
   "execution_count": 21,
   "metadata": {},
   "outputs": [
    {
     "data": {
      "image/png": "[encoded data removed]",
      "text/plain": [
       "<Figure size 432x288 with 1 Axes>"
      ]
     },
     "metadata": {
      "needs_background": "light"
     },
     "output_type": "display_data"
    }
   ],
   "source": [
    "plot_2d_steps2(steps1,start,steps2,start).show()"
   ]
  },
  {
   "cell_type": "markdown",
   "metadata": {
    "slideshow": {
     "slide_type": "slide"
    }
   },
   "source": [
    "## Exercise 3"
   ]
  },
  {
   "cell_type": "markdown",
   "metadata": {},
   "source": [
    "$$y_k=\\nabla f(x_k+s_k)-\\nabla f(x_k),$$\n",
    "\n",
    "$$H_{k+1}=H_{k}-\\frac{H_k y_k y_k^T H_k}{y_k^T H_k y_k}+\\frac{s_k s_k^T}{y_k^{T} s_k}$$"
   ]
  },
  {
   "cell_type": "code",
   "execution_count": 15,
   "metadata": {},
   "outputs": [],
   "source": [
    "import ad\n",
    "import numpy as np\n",
    "def update_Hinv(H_inv_old,x_old,x_new,f):\n",
    "    y = np.matrix(ad.gh(f)[0](x_new)-ad.gh(f)[0](x_old)).transpose()\n",
    "    second_term = H_inv_old*y*y.transpose()*H_inv_old.transpose()/(y.transpose()*H_inv_old*y)\n",
    "    s = np.matrix(x_new-x_old).transpose()\n",
    "    third_term = s*s.transpose()/(y.transpose()*s)\n",
    "    H_inv_new = H_inv_old-second_term+third_term\n",
    "    return H_inv_new"
   ]
  },
  {
   "cell_type": "code",
   "execution_count": 16,
   "metadata": {},
   "outputs": [],
   "source": [
    "import numpy as np\n",
    "def quasi_newton_DFP(f,start,step,precision):\n",
    "    f_old = float('Inf')\n",
    "#    x_old = np.array([0]*len(start))\n",
    "    x_new = np.array(start)\n",
    "    steps = []\n",
    "    f_new = f(x_new)\n",
    "    # Use identity matrix as the first approximation (is positive definite)\n",
    "    H_inv = np.eye(len(start))\n",
    "    d = float('Inf')\n",
    "#    while abs(f_old-f_new)>precision:\n",
    "    while np.linalg.norm(d)>precision and len(steps)<10:\n",
    "        d = (-H_inv*(np.matrix(ad.gh(f)[0](x_new)).transpose())).transpose()\n",
    "        #Change the type from np.matrix to np.array so that we can use it in our function\n",
    "        x_old = x_new\n",
    "        f_old = f_new\n",
    "        x_new = np.array(x_new+d*step)[0]\n",
    "        f_new = f(x_new)\n",
    "        steps.append(list(x_new))\n",
    "        H_inv = update_Hinv(H_inv,x_old,x_new,f)\n",
    "    return x_new,f_new,steps"
   ]
  },
  {
   "cell_type": "code",
   "execution_count": 24,
   "metadata": {},
   "outputs": [
    {
     "name": "stdout",
     "output_type": "stream",
     "text": [
      "[-0.50001181 -1.00001575]\n",
      "10\n",
      "[[-1.0999999999999996, -1.7999999999999998], [-0.6799999999999999, -1.24], [-0.5539999999999999, -1.072], [-0.5162, -1.0216], [-0.50486, -1.00648], [-0.5014580000000001, -1.001944], [-0.5004373999999999, -1.0005832000000001], [-0.5001312200000001, -1.0001749599999998], [-0.5000393659999999, -1.0000524880000001], [-0.5000118098000002, -1.0000157464]]\n"
     ]
    }
   ],
   "source": [
    "(x,f_new,steps)=quasi_newton_DFP(objective_function,start,0.7,0.0001)\n",
    "print(x)\n",
    "print(len(steps))\n",
    "print (steps)"
   ]
  },
  {
   "cell_type": "code",
   "execution_count": 18,
   "metadata": {},
   "outputs": [],
   "source": [
    "def plot_2d_steps(steps,start):\n",
    "    myvec = np.array([start]+steps).transpose()\n",
    "    plt.plot(myvec[0,],myvec[1,],'bo')\n",
    "    return plt"
   ]
  },
  {
   "cell_type": "code",
   "execution_count": 25,
   "metadata": {},
   "outputs": [
    {
     "data": {
      "image/png": "[encoded data removed]",
      "text/plain": [
       "<Figure size 432x288 with 1 Axes>"
      ]
     },
     "metadata": {
      "needs_background": "light"
     },
     "output_type": "display_data"
    }
   ],
   "source": [
    "plot_2d_steps(steps,start).show()"
   ]
  }
 ],
 "metadata": {
  "anaconda-cloud": {},
  "celltoolbar": "Slideshow",
  "kernelspec": {
   "display_name": "Python 3",
   "language": "python",
   "name": "python3"
  },
  "language_info": {
   "codemirror_mode": {
    "name": "ipython",
    "version": 3
   },
   "file_extension": ".py",
   "mimetype": "text/x-python",
   "name": "python",
   "nbconvert_exporter": "python",
   "pygments_lexer": "ipython3",
   "version": "3.7.0"
  }
 },
 "nbformat": 4,
 "nbformat_minor": 1
}
